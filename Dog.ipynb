{
 "cells": [
  {
   "cell_type": "markdown",
   "metadata": {},
   "source": [
    "# Required Application task for Starmind Application\n",
    "\n",
    "In this dataset of dog names in Zurich (\n",
    "https://data.stadt-zuerich.ch/dataset/sid_stapo_hundenamen/download/20210103_hundenamen.csv Last updated June 16th 2021), find all names that have a Levenshtein distance of 1 to \"Luca\". \n",
    "\n",
    "Expected output:\n",
    "Write your answer here (comma-separated names, in any order).\n",
    "\n",
    "## Preparation\n",
    "\n",
    "Loading of necessary libraries."
   ]
  },
  {
   "cell_type": "code",
   "execution_count": 1,
   "metadata": {},
   "outputs": [
    {
     "name": "stdout",
     "output_type": "stream",
     "text": [
      "Requirement already satisfied: python-Levenshtein in /usr/local/lib/python3.8/site-packages (0.12.0)\n",
      "Requirement already satisfied: setuptools in /usr/local/lib/python3.8/site-packages (from python-Levenshtein) (50.3.2)\n"
     ]
    }
   ],
   "source": [
    "import sys\n",
    "!{sys.executable} -m pip install python-Levenshtein"
   ]
  },
  {
   "cell_type": "code",
   "execution_count": 2,
   "metadata": {},
   "outputs": [],
   "source": [
    "import os\n",
    "import pandas as pd\n",
    "from functools import partial\n",
    "import Levenshtein"
   ]
  },
  {
   "cell_type": "markdown",
   "metadata": {},
   "source": [
    "## Data Loading\n",
    "\n",
    "We load it with Pandas."
   ]
  },
  {
   "cell_type": "code",
   "execution_count": 3,
   "metadata": {},
   "outputs": [],
   "source": [
    "df = pd.read_csv(os.path.join('.', '20210103_hundenamen.csv'))"
   ]
  },
  {
   "cell_type": "code",
   "execution_count": 4,
   "metadata": {},
   "outputs": [
    {
     "data": {
      "text/html": [
       "<div>\n",
       "<style scoped>\n",
       "    .dataframe tbody tr th:only-of-type {\n",
       "        vertical-align: middle;\n",
       "    }\n",
       "\n",
       "    .dataframe tbody tr th {\n",
       "        vertical-align: top;\n",
       "    }\n",
       "\n",
       "    .dataframe thead th {\n",
       "        text-align: right;\n",
       "    }\n",
       "</style>\n",
       "<table border=\"1\" class=\"dataframe\">\n",
       "  <thead>\n",
       "    <tr style=\"text-align: right;\">\n",
       "      <th></th>\n",
       "      <th>HUNDENAME</th>\n",
       "      <th>GEBURTSJAHR_HUND</th>\n",
       "      <th>GESCHLECHT_HUND</th>\n",
       "    </tr>\n",
       "  </thead>\n",
       "  <tbody>\n",
       "    <tr>\n",
       "      <th>0</th>\n",
       "      <td>Ituma</td>\n",
       "      <td>2011</td>\n",
       "      <td>w</td>\n",
       "    </tr>\n",
       "    <tr>\n",
       "      <th>1</th>\n",
       "      <td>\"Bo\" Bendy of Treegarden</td>\n",
       "      <td>2020</td>\n",
       "      <td>m</td>\n",
       "    </tr>\n",
       "    <tr>\n",
       "      <th>2</th>\n",
       "      <td>\"Bobby\" Lord Sinclair</td>\n",
       "      <td>2009</td>\n",
       "      <td>m</td>\n",
       "    </tr>\n",
       "    <tr>\n",
       "      <th>3</th>\n",
       "      <td>\"Buddy\" Fortheringhay's J.</td>\n",
       "      <td>2011</td>\n",
       "      <td>m</td>\n",
       "    </tr>\n",
       "    <tr>\n",
       "      <th>4</th>\n",
       "      <td>\"Fly\" Showring i fly for you</td>\n",
       "      <td>2015</td>\n",
       "      <td>w</td>\n",
       "    </tr>\n",
       "  </tbody>\n",
       "</table>\n",
       "</div>"
      ],
      "text/plain": [
       "                      HUNDENAME  GEBURTSJAHR_HUND GESCHLECHT_HUND\n",
       "0                         Ituma              2011               w\n",
       "1      \"Bo\" Bendy of Treegarden              2020               m\n",
       "2         \"Bobby\" Lord Sinclair              2009               m\n",
       "3    \"Buddy\" Fortheringhay's J.              2011               m\n",
       "4  \"Fly\" Showring i fly for you              2015               w"
      ]
     },
     "execution_count": 4,
     "metadata": {},
     "output_type": "execute_result"
    }
   ],
   "source": [
    "df.head()"
   ]
  },
  {
   "cell_type": "markdown",
   "metadata": {},
   "source": [
    "## Data Profiling\n",
    "\n",
    "How many records do we have?"
   ]
  },
  {
   "cell_type": "code",
   "execution_count": 5,
   "metadata": {},
   "outputs": [
    {
     "data": {
      "text/plain": [
       "8574"
      ]
     },
     "execution_count": 5,
     "metadata": {},
     "output_type": "execute_result"
    }
   ],
   "source": [
    "df.HUNDENAME.shape[0]"
   ]
  },
  {
   "cell_type": "markdown",
   "metadata": {},
   "source": [
    "How many names do have?"
   ]
  },
  {
   "cell_type": "code",
   "execution_count": 6,
   "metadata": {},
   "outputs": [
    {
     "data": {
      "text/plain": [
       "count     8574\n",
       "unique    5192\n",
       "top       Luna\n",
       "freq        92\n",
       "Name: HUNDENAME, dtype: object"
      ]
     },
     "execution_count": 6,
     "metadata": {},
     "output_type": "execute_result"
    }
   ],
   "source": [
    "df.HUNDENAME.describe()"
   ]
  },
  {
   "cell_type": "markdown",
   "metadata": {},
   "source": [
    "How long are our names?"
   ]
  },
  {
   "cell_type": "code",
   "execution_count": 7,
   "metadata": {},
   "outputs": [
    {
     "data": {
      "text/plain": [
       "<AxesSubplot:>"
      ]
     },
     "execution_count": 7,
     "metadata": {},
     "output_type": "execute_result"
    },
    {
     "data": {
      "image/png": "[encoded data removed]",
      "text/plain": [
       "<Figure size 432x288 with 1 Axes>"
      ]
     },
     "metadata": {
      "needs_background": "light"
     },
     "output_type": "display_data"
    }
   ],
   "source": [
    "df.HUNDENAME.apply(len).hist()"
   ]
  },
  {
   "cell_type": "markdown",
   "metadata": {},
   "source": [
    "We have some long names in here. Let's have a look at them. Just to make sure we are not missing anything."
   ]
  },
  {
   "cell_type": "code",
   "execution_count": 8,
   "metadata": {},
   "outputs": [
    {
     "data": {
      "text/plain": [
       "array(['\"Buddy\" Fortheringhay\\'s J.', '\"Fly\" Showring i fly for you',\n",
       "       '\"Zappalla II\" Kora v. Tüfibach', 'A great Dream Kajsa of Moss-La',\n",
       "       'Akando-Abucco v. Ritters Glück', 'Akela Sugar Dogs v. Donaugart.',\n",
       "       \"Akosambo's Black Massai Ulani\", 'Algarvio (Casa Rastys Amigo)',\n",
       "       'Alles Liebe Ava mein Rheingold', 'Aly von den Sarazenentürmen',\n",
       "       \"Amelia's Angels Your Love Is D\", 'Amy (Skyligth of Sherry Lane)',\n",
       "       'Anakin Skywalker von Glönigen', 'Anna (chilchil v Montfortwald)',\n",
       "       'Ardey Kahlo vom Kermelberg', \"Ariel (Paperlapap's Joker)\",\n",
       "       'Armani the Limited Edition', 'Aro (Tomba v. Försterhaus)',\n",
       "       'Axel von Burg Schwärtzenberg', 'Babu (Udo von Tannenthalbad)',\n",
       "       'Bakonyi-Dròtos Indigo-Rusty', 'Baltic Success Princess Kira',\n",
       "       'Baslis Hermes vom Moosacher', 'Berenice v. Happy Morning Star',\n",
       "       'Betty-Fibi von der Landruh', 'Billie Red Starlight Girl von',\n",
       "       'Bircan du bosquet des muguets', \"Birla (Herder little Devil's)\",\n",
       "       'Black Hamlet B For Blueberry H', 'Black Hamlet Call Me Cheeky',\n",
       "       'Blacky Emil vom Allgäu Land', 'Bonnie (Hajra TappiLargiBulls)',\n",
       "       'Bonsai von den Glückspfoten', 'Boudy Snoody Happyparadise',\n",
       "       'Bruno Taschenbier v. Loderberg', 'Brutus vom goldenen Kelsch',\n",
       "       'Caipirhna`s One Hot Minute (Mi', 'Cassy (Kassady little rose)',\n",
       "       'Cersei (vom Schüpberger Land)', 'Chester von den Haslizwergen',\n",
       "       'Chili (Superflys Obsession)', 'Cianluca-Carlos vom Rieskrater',\n",
       "       'Coco Zita von Pfaffenwinkel', 'Coco v.d. Heiligen Pfählen',\n",
       "       'Cody (Captain Luka High Hopes)', 'Cool Puschkin of Silver Smile',\n",
       "       'Cooper (Cooper vom Asparagus)', 'Curly Timmy von Happy Season',\n",
       "       'Cézanne Anuk Etoile des filous', 'Daffy (Daphne von Flolama)',\n",
       "       'Dahbia Vola vom Galgenberg', 'Daiki (Daiki vom Albispass)',\n",
       "       'Dain Dido del Arco di Rosa', 'Daisy  Desirée Rainerschlössel',\n",
       "       'Dana Reichsgrafen von Velen', 'Dargon Petipa Otto del Wanhel.',\n",
       "       'Diamond Spirit Ivory of Golden', \"Don't Stop Til U Get It HP\",\n",
       "       'Duke Winston Oliver Wellington', 'Edi (Ischigo v. Bergkristall',\n",
       "       \"Eiko (Scalloway's ) (Edor)\", 'Eila Golden Whirlwind of Lenz.',\n",
       "       'Elisha Paloma of Snowdrift', \"Ellwood's Malaika in black\",\n",
       "       \"Eloise (Piccadilly's Sweet L.)\", 'Elram`sTabea Bliss of Love SUI',\n",
       "       'Energy (Dimitrie-Napoleon)', 'Esprit Active Crispy Concho',\n",
       "       'Estragon (Dylan Wieselweide)', \"Everybody's Darling Shakti\",\n",
       "       \"Fantastic Feature's Happy Lou\", 'Felix (Candyboy v. alten Zoll)',\n",
       "       'Fiete (Alf von fünf Dörfer)', 'Filou (Alpha vom Tüfenbach)',\n",
       "       'Finia von Burg Schwärtzenberg', 'Finnix (Nick v.d. Joderten)',\n",
       "       'Fipsli Phoebe v. Ramat Gan', 'Flaek (Merlin Siebenbannstein)',\n",
       "       'Flo (Gleam of Light Linija)', 'Freiya vom Zauberwald (Jacky)',\n",
       "       'Freki Freak from ColorGang', \"Galahad's Guardian - O'Ascot\",\n",
       "       'Gatsby (Loving Hearts Honey)', 'Genette Bleue de la Vallée',\n",
       "       'Genki (Hatchiko vom Ilmenautal', 'Gentleman \"Tim\" von Bayern',\n",
       "       'Georgi (Glenveagh Gallagher)', 'Gianna La Negra von Candela',\n",
       "       \"Gillian's Choice River Queen Q\", 'Gingercreek Truffle Zucchero',\n",
       "       \"Gini (Highland's Bluebell)\", 'Ginny  (Eaily v. Ramat Gan)',\n",
       "       'Giotto Nelson von Shenjamo', 'Gismo Aton v. Graf Toggenburg',\n",
       "       'Giulietta (Eika v. Seebachtal)', 'Grace Muray Hopper dit \"Oslo\"',\n",
       "       'Gregorie-Garvin von Halona', 'H-Chika v. Burg Gryfenstein',\n",
       "       'Heaven (Marie von der Linde)', 'Hektor (Grim von Quithara)',\n",
       "       'Henry (Alex v. B. Gryfenstein)', 'Henry (Zar-Henry vom Hela-Hof)',\n",
       "       'Hodge Dublin vom Nikolaital', 'Holly Nanja Berger Blanc Jura',\n",
       "       'Honey vom Chaschtele-Blick', 'Hope All Along Came Takumi',\n",
       "       \"Hubertus Springer Brânwen's Ay\", 'Hunter-Zorro v. Fridlispitz',\n",
       "       'Ian Rufus v. Lindenthalerdörfl', 'Ika (Daisy vom Försterhaus)',\n",
       "       'Iloy lupiter v. Hentschenried', 'Iluq (Nica von Kupferschmiede)',\n",
       "       \"Indira Girl of Taiga's Dream\", \"Iroh (Agloolik's Western Bang)\",\n",
       "       'Isaac (Oregon Golden Kennel)', 'Iska (Ilmatar von Mainikka)',\n",
       "       \"Iwa des seigneurs d'orient\", 'Jango-Gino vom Zwärgehüsli',\n",
       "       'Jashi (Jamie vom Hause Globi)', 'Jenna Grafschaft Toggenburg',\n",
       "       'Jndi du Rocher de la Barmaz', 'Jodie (Queen vom Maiengrün)',\n",
       "       'Jollities Gigi La Modella Will', 'Joschi (Ikarus vom Zürihorn)',\n",
       "       'Joy (Leverage Inner Power B.)', \"Juli (Riversqueen's Cattleya)\",\n",
       "       'Julius vom Dürrdbächlerwald', 'Just Girly Things v. Shinbashi',\n",
       "       'Kaiserin Emma v. d. Rütlihalde', 'Kajika (Marvelous Snowstorm)',\n",
       "       'Kasimir (Karo Of Black Devils)', 'Kaya (Caballus Pink Cadillac)',\n",
       "       'Kayla (Orca-Kira v. Breitland)', 'Keita (Onyra vom Wandergut)',\n",
       "       'Kleopatra  de la F. du Spessar', \"Klia (Swiss Golden Lady's Ole)\",\n",
       "       'Kuma (Quinlan Savannah Town)', 'Käpten Habdock (Very Vigie)',\n",
       "       'König Bubba aus der Grafschaft', 'Lacrima Christi Choco Chester',\n",
       "       'Laika Jaane von der Silbermöwe', 'Lappi Jolly vom Lindenberg',\n",
       "       'Laser (Windy Nights Way To Go)', 'Layca (Layca vom Dorfblick)',\n",
       "       'Lennox (Ficus von Sprinbell)', 'Lennox vom Steinsvordersee',\n",
       "       'Lenny (Adelante d. Pelo Largo)', 'Leo (Ikos v. Mindelschloss)',\n",
       "       'Leonidas (Ndoto Yangu Adia T.)', 'Lex Mjoelnir v. Belg. Feuer',\n",
       "       'Lilly (Hilaria v. Margelchopf)', 'Lilo-Lava vom Thungschneit',\n",
       "       'Little Bullys of Khordad Ace', 'Lotta v. Kobernaussernwald',\n",
       "       'Lotte (Waywood Take it easy)', 'Louis (Simply the best...)',\n",
       "       'Louve(Topwater Choice of Love)', 'Luna (Adda Zentralschweiz)',\n",
       "       'Luna (You are my Sunshine)', 'Mad-Max from the Cute Gobblis',\n",
       "       'Magnolia Gardens Simply the b.', 'Mailo (Gin v.d. Andreashöhe)',\n",
       "       'Mali von den Glücksbringer', 'Marley (Urmel vom Käpflesberg)',\n",
       "       'Marra (Zeta v. Grimmenstein)', 'Max (Bandit Eiger Marmots)',\n",
       "       'Max (Finch Hatton Closeau)', 'Memphis A.S. vom Breitenberg',\n",
       "       'Merle Golden v. Schlossguet', 'Mila (Ka-Ya-Bag Hi-lin Shari)',\n",
       "       'Molly (HETY of Blue Diamond)', \"Moonlightsrainbow's Golden Mel\",\n",
       "       'Muhlifain Blues Dance all Nigh', 'Murphy (Primus Stubborn Fellow',\n",
       "       'Myra (Bora Gletscherhöhle)', 'Nacho Stelvio von Kopfrein',\n",
       "       'Namur dils pasturs da Gianal', 'Nanook (Timi vom Engelacher)',\n",
       "       'Narvick du domaine de Sainte M', 'Nisha (Nitta Ofpretty Devil)',\n",
       "       'Noodle (Frida) aus d. Farbtopf', 'Nora (Eleonora vom Zwärgehüsli',\n",
       "       'Okaloosa My Red Scarf Nona', 'Onda la Lupa Beautiful Whites',\n",
       "       'One Love Duke Sir of Beacon Hi', 'Oneiro Ronan vom Wichtelhaus',\n",
       "       'Orion of Little Snow Bears', 'Orlando v. Burg Schwärtzenberg',\n",
       "       'Oskar  (Orlando Stub. Fellow)', 'Oskar (Rino vom Försterhaus)',\n",
       "       'Pablo Calimera Casa della Perl', \"Paperlapap's hot chocolate\",\n",
       "       'Paulo (Robby della Cantero)', 'Peppa (Klima Steep Walker)',\n",
       "       'Phoebe (Candy Chini of Sweet)', 'Pipa (Yade von der Brausmatt)',\n",
       "       'Piper (Zeta vom Schlossturm)', 'Plainfire`s Xotic Lapdancer',\n",
       "       'Pretty Belinda v. Rotmonten', 'Primo (Priamos v. Poptime)',\n",
       "       'Princesse of Artabella Dézaley', \"Purple arrow's Purple Heart\",\n",
       "       'Queen Helena vom Mindelschloss', 'Queen Kaja of Buffalo Creek',\n",
       "       \"Queue à l'Ombre du Vieux Chêne\", 'Quincy Quillings Blumenstein',\n",
       "       'Quinta Hendrix of Sherry Lane', 'Radiva Baby Valentino (Seamus)',\n",
       "       'Ramses (Antonv. Edlem Gemüt)', 'Richo - Samarcanda Mystic Love',\n",
       "       'Riva Luna des Chasseurs Temp', 'River du chemin du Paradis',\n",
       "       'Riverqueens Love Neverdies', \"Rocky (ELRAMS'sLove Me Tender)\",\n",
       "       'Rocky (Shamrock Here We Go)', 'Rocky Highlands Special C.Dior',\n",
       "       'Romie of Little Snow Bears', 'Roméo de La Croix de Malvan',\n",
       "       'Roque (Uri vom Gehrenberg)', 'Rosalie von der Rütlihalde',\n",
       "       'Ruby (Arany v. Vär Harkaly)', 'Rufus (Dandy vom Wolfszauber)',\n",
       "       'Shanaja\\'s Gentle Gavin \"Hjari\"', 'Siro (Arany Szivem Ferenc)',\n",
       "       'Stars of Heaven ZZ-Midnight Sp', 'Stella (Bianca Luäg is Land)',\n",
       "       'Tayla vom Dorfbach (Tayla)', 'Telma (Everest First Venus)',\n",
       "       'The Dragon Elliot of Fantasy', 'Thung Thong (Layta Star Free)',\n",
       "       'Tino (Igo von fünf Dörfer)', 'Tino (Valentino v. Rottachtal)',\n",
       "       'Toto (Silken Arrow Winnetou)', \"Tots's Tail's please please me\",\n",
       "       'Tristan von Britho (Balou)', 'Tucker Fitzgerald v. Bollerain',\n",
       "       \"Twilight Star's All That Matte\", 'Umbrio Cino of Golgen Comfort',\n",
       "       'Unikat Umbi von Kronenberg', \"Uno (Pepa's Jesse James Sunny)\",\n",
       "       'Ushuaia-Winston of Black-Devil', 'Utta von Burg Schwärtzenberg',\n",
       "       'Valentin Limligth of Bloodline', 'Van-M Thunderbolt The Spirit',\n",
       "       'Venga Nel Mio Cuore von Seiden', 'Victorious star keep going',\n",
       "       'Wanda Ronja of Black Devils', 'Whiskey (Hendrik v.Thanzapfen)',\n",
       "       'Wilma (Aischa vom Louigrabe)', 'Wilma Bölschterli (Snoopy)',\n",
       "       'Windy Nights Rose of Heaven in', 'Winged Victory Compagna della',\n",
       "       'Wonderpoodle Gino vom Asparagu', \"Woody (Jerry of Janik's Blue)\",\n",
       "       'X-dreamred Nelson Isininga', 'YES I AM BAXTER SIR OF BEACON',\n",
       "       'Yaris Lenny of Golden Life', \"Yuki (Elram's Faithfulness)\",\n",
       "       'Zar-Lorcan vom Franzosenkeller', \"Zelda (Anirella's Zinderella)\",\n",
       "       'Zeus von Shanghai (Noodle)', 'Ziggy (Infinity Dark Night )'],\n",
       "      dtype=object)"
      ]
     },
     "execution_count": 8,
     "metadata": {},
     "output_type": "execute_result"
    }
   ],
   "source": [
    "df[df.HUNDENAME.apply(len) > 25].HUNDENAME.unique()"
   ]
  },
  {
   "cell_type": "markdown",
   "metadata": {},
   "source": [
    "So there seems to be a lot of information encoded in the name field. Probably also nicknames of the dogs. \n",
    "But since we are missing documentation of the dataset, we cannot be for sure.\n",
    "For now we will stick with whatever we have."
   ]
  },
  {
   "cell_type": "markdown",
   "metadata": {},
   "source": [
    "## Define Helper\n",
    "\n",
    "Let's define a helper function."
   ]
  },
  {
   "cell_type": "code",
   "execution_count": 9,
   "metadata": {},
   "outputs": [],
   "source": [
    "get_distance_to_luca = partial(Levenshtein.distance, 'Luca')"
   ]
  },
  {
   "cell_type": "markdown",
   "metadata": {},
   "source": [
    "## Calculate distance from names\n",
    "\n",
    "We can apply this function to each row."
   ]
  },
  {
   "cell_type": "code",
   "execution_count": 10,
   "metadata": {},
   "outputs": [],
   "source": [
    "df['distance_to_luca'] = df.HUNDENAME.apply(get_distance_to_luca)"
   ]
  },
  {
   "cell_type": "markdown",
   "metadata": {},
   "source": [
    "## Get relevant names\n",
    "\n",
    "We are looking for the names that have a distance of 1 to Luca in a comma-seperated list."
   ]
  },
  {
   "cell_type": "code",
   "execution_count": 11,
   "metadata": {},
   "outputs": [],
   "source": [
    "names = df[df.distance_to_luca == 1].HUNDENAME.unique()"
   ]
  },
  {
   "cell_type": "markdown",
   "metadata": {},
   "source": [
    "These are our names:"
   ]
  },
  {
   "cell_type": "code",
   "execution_count": 12,
   "metadata": {},
   "outputs": [
    {
     "name": "stdout",
     "output_type": "stream",
     "text": [
      "Cuca,Lua,Luba,Lucas,Luce,Lucia,Lucy,Lula,Luma,Luna,Lupa,Yuca\n"
     ]
    }
   ],
   "source": [
    "print(','.join(names.tolist()))"
   ]
  }
 ],
 "metadata": {
  "kernelspec": {
   "display_name": "Python 3",
   "language": "python",
   "name": "python3"
  },
  "language_info": {
   "codemirror_mode": {
    "name": "ipython",
    "version": 3
   },
   "file_extension": ".py",
   "mimetype": "text/x-python",
   "name": "python",
   "nbconvert_exporter": "python",
   "pygments_lexer": "ipython3",
   "version": "3.8.6"
  }
 },
 "nbformat": 4,
 "nbformat_minor": 4
}
